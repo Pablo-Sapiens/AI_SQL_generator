{
 "cells": [
  {
   "cell_type": "code",
   "execution_count": 7,
   "metadata": {},
   "outputs": [
    {
     "name": "stdout",
     "output_type": "stream",
     "text": [
      "Archivos CSV creados con éxito.\n"
     ]
    }
   ],
   "source": [
    "import pandas as pd\n",
    "import numpy as np\n",
    "\n",
    "np.random.seed(42)\n",
    "\n",
    "# Crear 100 ejemplos aleatorios para la tabla pedidos\n",
    "pedidos = pd.DataFrame({\n",
    "    'referencia_final': [f'A{str(i).zfill(3)}' for i in range(1, 101)],\n",
    "    'cliente': [f'Cliente{i}' for i in range(1, 101)],\n",
    "    'fecha_entrega': np.random.randint(20250301, 20250331, 100),\n",
    "    'cantidad_pedida': np.random.randint(50, 500, 100),\n",
    "    'stock': np.random.randint(10, 200, 100),\n",
    "    'necesidades': np.random.randint(10, 200, 100)\n",
    "})\n",
    "\n",
    "# Crear 100 ejemplos aleatorios para la tabla descomposiciones\n",
    "descomposiciones = pd.DataFrame({\n",
    "    'referencia_final': np.random.choice(pedidos['referencia_final'], 100),\n",
    "    'componente': [f'C{str(i).zfill(3)}' for i in range(1, 101)],\n",
    "    'stock': np.random.randint(100, 1000, 100)\n",
    "})\n",
    "\n",
    "# Crear 100 ejemplos aleatorios para la tabla componentes_enviados\n",
    "componentes_enviados = pd.DataFrame({\n",
    "    'componente': np.random.choice(descomposiciones['componente'], 100),\n",
    "    'cantidad_enviada': np.random.randint(50, 800, 100),\n",
    "    'fecha_envío': np.random.randint(20250201, 20250228, 100)\n",
    "})\n",
    "\n",
    "# Crear 100 ejemplos aleatorios para la tabla referencias_recibidas\n",
    "referencias_recibidas = pd.DataFrame({\n",
    "    'referencia_final': np.random.choice(pedidos['referencia_final'], 100),\n",
    "    'cantidad_recibida': np.random.randint(10, 200, 100),\n",
    "    'fecha': np.random.randint(20250201, 20250228, 100)\n",
    "})\n",
    "\n",
    "# Guardar en archivos CSV\n",
    "pedidos.to_csv('pedidos.csv', index=False)\n",
    "descomposiciones.to_csv('descomposiciones.csv', index=False)\n",
    "componentes_enviados.to_csv('componentes_enviados.csv', index=False)\n",
    "referencias_recibidas.to_csv('referencias_recibidas.csv', index=False)\n",
    "\n",
    "print(\"Archivos CSV creados con éxito.\")\n"
   ]
  },
  {
   "cell_type": "code",
   "execution_count": null,
   "metadata": {},
   "outputs": [],
   "source": []
  }
 ],
 "metadata": {
  "kernelspec": {
   "display_name": "base",
   "language": "python",
   "name": "python3"
  },
  "language_info": {
   "codemirror_mode": {
    "name": "ipython",
    "version": 3
   },
   "file_extension": ".py",
   "mimetype": "text/x-python",
   "name": "python",
   "nbconvert_exporter": "python",
   "pygments_lexer": "ipython3",
   "version": "3.11.7"
  }
 },
 "nbformat": 4,
 "nbformat_minor": 2
}
